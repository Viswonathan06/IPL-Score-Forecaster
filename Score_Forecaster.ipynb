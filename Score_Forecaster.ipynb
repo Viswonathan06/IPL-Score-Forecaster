{
  "nbformat": 4,
  "nbformat_minor": 0,
  "metadata": {
    "kernelspec": {
      "display_name": "Python 3",
      "language": "python",
      "name": "python3"
    },
    "language_info": {
      "codemirror_mode": {
        "name": "ipython",
        "version": 3
      },
      "file_extension": ".py",
      "mimetype": "text/x-python",
      "name": "python",
      "nbconvert_exporter": "python",
      "pygments_lexer": "ipython3",
      "version": "3.7.4"
    },
    "colab": {
      "name": "Score Forecaster.ipynb",
      "provenance": [],
      "toc_visible": true,
      "include_colab_link": true
    }
  },
  "cells": [
    {
      "cell_type": "markdown",
      "metadata": {
        "id": "view-in-github",
        "colab_type": "text"
      },
      "source": [
        "<a href=\"https://colab.research.google.com/github/Viswonathan06/IPL-Score-Prediction/blob/main/Score_Forecaster.ipynb\" target=\"_parent\"><img src=\"https://colab.research.google.com/assets/colab-badge.svg\" alt=\"Open In Colab\"/></a>"
      ]
    },
    {
      "cell_type": "markdown",
      "metadata": {
        "id": "b-SNvjbRlUTw"
      },
      "source": [
        "# Importing all dependancies we'll be using\n"
      ]
    },
    {
      "cell_type": "code",
      "metadata": {
        "colab": {
          "base_uri": "https://localhost:8080/"
        },
        "id": "kFDdWb5ilTIV",
        "outputId": "c730fa1f-2b28-4b32-c066-0f323dcc666d"
      },
      "source": [
        "import pandas as pd\n",
        "import numpy as np\n",
        "import seaborn as sns\n",
        "import matplotlib.pyplot as plt\n",
        "import pickle\n",
        "%matplotlib.inline"
      ],
      "execution_count": null,
      "outputs": [
        {
          "output_type": "stream",
          "text": [
            "UsageError: Line magic function `%matplotlib.inline` not found.\n"
          ],
          "name": "stderr"
        }
      ]
    },
    {
      "cell_type": "markdown",
      "metadata": {
        "id": "HzxA1F8flbGR"
      },
      "source": [
        "# Working on CSV file\n",
        "\n",
        "## We use drive to store and access dataset"
      ]
    },
    {
      "cell_type": "code",
      "metadata": {
        "colab": {
          "base_uri": "https://localhost:8080/"
        },
        "id": "Hd7oGSLPll22",
        "outputId": "5e643d17-8a59-485c-bcc9-244f62eeab74"
      },
      "source": [
        "from google.colab import drive\n",
        "drive.mount('/content/drive')"
      ],
      "execution_count": null,
      "outputs": [
        {
          "output_type": "stream",
          "text": [
            "Mounted at /content/drive\n"
          ],
          "name": "stdout"
        }
      ]
    },
    {
      "cell_type": "code",
      "metadata": {
        "id": "9s_A0FCvlTIe"
      },
      "source": [
        "df = pd.read_csv(\"/content/drive/MyDrive/IPL.csv\")"
      ],
      "execution_count": null,
      "outputs": []
    },
    {
      "cell_type": "markdown",
      "metadata": {
        "id": "3cAKQpo9yU_S"
      },
      "source": [
        "## This is how the dataset looks"
      ]
    },
    {
      "cell_type": "code",
      "metadata": {
        "colab": {
          "base_uri": "https://localhost:8080/",
          "height": 400
        },
        "id": "5M57nSATlTIe",
        "outputId": "b54985ca-0802-4c69-9bb9-6a8726570702"
      },
      "source": [
        "df.head()"
      ],
      "execution_count": null,
      "outputs": [
        {
          "output_type": "execute_result",
          "data": {
            "text/html": [
              "<div>\n",
              "<style scoped>\n",
              "    .dataframe tbody tr th:only-of-type {\n",
              "        vertical-align: middle;\n",
              "    }\n",
              "\n",
              "    .dataframe tbody tr th {\n",
              "        vertical-align: top;\n",
              "    }\n",
              "\n",
              "    .dataframe thead th {\n",
              "        text-align: right;\n",
              "    }\n",
              "</style>\n",
              "<table border=\"1\" class=\"dataframe\">\n",
              "  <thead>\n",
              "    <tr style=\"text-align: right;\">\n",
              "      <th></th>\n",
              "      <th>mid</th>\n",
              "      <th>date</th>\n",
              "      <th>venue</th>\n",
              "      <th>bat_team</th>\n",
              "      <th>bowl_team</th>\n",
              "      <th>batsman</th>\n",
              "      <th>bowler</th>\n",
              "      <th>runs</th>\n",
              "      <th>wickets</th>\n",
              "      <th>overs</th>\n",
              "      <th>runs_last_5</th>\n",
              "      <th>wickets_last_5</th>\n",
              "      <th>striker</th>\n",
              "      <th>non-striker</th>\n",
              "      <th>total</th>\n",
              "    </tr>\n",
              "  </thead>\n",
              "  <tbody>\n",
              "    <tr>\n",
              "      <th>0</th>\n",
              "      <td>1</td>\n",
              "      <td>4/18/2008</td>\n",
              "      <td>M Chinnaswamy Stadium</td>\n",
              "      <td>Kolkata Knight Riders</td>\n",
              "      <td>Royal Challengers Bangalore</td>\n",
              "      <td>SC Ganguly</td>\n",
              "      <td>P Kumar</td>\n",
              "      <td>1</td>\n",
              "      <td>0</td>\n",
              "      <td>0.1</td>\n",
              "      <td>1</td>\n",
              "      <td>0</td>\n",
              "      <td>0</td>\n",
              "      <td>0</td>\n",
              "      <td>222</td>\n",
              "    </tr>\n",
              "    <tr>\n",
              "      <th>1</th>\n",
              "      <td>1</td>\n",
              "      <td>4/18/2008</td>\n",
              "      <td>M Chinnaswamy Stadium</td>\n",
              "      <td>Kolkata Knight Riders</td>\n",
              "      <td>Royal Challengers Bangalore</td>\n",
              "      <td>BB McCullum</td>\n",
              "      <td>P Kumar</td>\n",
              "      <td>1</td>\n",
              "      <td>0</td>\n",
              "      <td>0.2</td>\n",
              "      <td>1</td>\n",
              "      <td>0</td>\n",
              "      <td>0</td>\n",
              "      <td>0</td>\n",
              "      <td>222</td>\n",
              "    </tr>\n",
              "    <tr>\n",
              "      <th>2</th>\n",
              "      <td>1</td>\n",
              "      <td>4/18/2008</td>\n",
              "      <td>M Chinnaswamy Stadium</td>\n",
              "      <td>Kolkata Knight Riders</td>\n",
              "      <td>Royal Challengers Bangalore</td>\n",
              "      <td>BB McCullum</td>\n",
              "      <td>P Kumar</td>\n",
              "      <td>2</td>\n",
              "      <td>0</td>\n",
              "      <td>0.2</td>\n",
              "      <td>2</td>\n",
              "      <td>0</td>\n",
              "      <td>0</td>\n",
              "      <td>0</td>\n",
              "      <td>222</td>\n",
              "    </tr>\n",
              "    <tr>\n",
              "      <th>3</th>\n",
              "      <td>1</td>\n",
              "      <td>4/18/2008</td>\n",
              "      <td>M Chinnaswamy Stadium</td>\n",
              "      <td>Kolkata Knight Riders</td>\n",
              "      <td>Royal Challengers Bangalore</td>\n",
              "      <td>BB McCullum</td>\n",
              "      <td>P Kumar</td>\n",
              "      <td>2</td>\n",
              "      <td>0</td>\n",
              "      <td>0.3</td>\n",
              "      <td>2</td>\n",
              "      <td>0</td>\n",
              "      <td>0</td>\n",
              "      <td>0</td>\n",
              "      <td>222</td>\n",
              "    </tr>\n",
              "    <tr>\n",
              "      <th>4</th>\n",
              "      <td>1</td>\n",
              "      <td>4/18/2008</td>\n",
              "      <td>M Chinnaswamy Stadium</td>\n",
              "      <td>Kolkata Knight Riders</td>\n",
              "      <td>Royal Challengers Bangalore</td>\n",
              "      <td>BB McCullum</td>\n",
              "      <td>P Kumar</td>\n",
              "      <td>2</td>\n",
              "      <td>0</td>\n",
              "      <td>0.4</td>\n",
              "      <td>2</td>\n",
              "      <td>0</td>\n",
              "      <td>0</td>\n",
              "      <td>0</td>\n",
              "      <td>222</td>\n",
              "    </tr>\n",
              "  </tbody>\n",
              "</table>\n",
              "</div>"
            ],
            "text/plain": [
              "   mid       date                  venue  ... striker non-striker total\n",
              "0    1  4/18/2008  M Chinnaswamy Stadium  ...       0           0   222\n",
              "1    1  4/18/2008  M Chinnaswamy Stadium  ...       0           0   222\n",
              "2    1  4/18/2008  M Chinnaswamy Stadium  ...       0           0   222\n",
              "3    1  4/18/2008  M Chinnaswamy Stadium  ...       0           0   222\n",
              "4    1  4/18/2008  M Chinnaswamy Stadium  ...       0           0   222\n",
              "\n",
              "[5 rows x 15 columns]"
            ]
          },
          "metadata": {
            "tags": []
          },
          "execution_count": 4
        }
      ]
    },
    {
      "cell_type": "markdown",
      "metadata": {
        "id": "z8aD9zBzyY3L"
      },
      "source": [
        "## Removing columns that do not contribute to our predictions at the moment"
      ]
    },
    {
      "cell_type": "code",
      "metadata": {
        "id": "xTpcCnSilTIf"
      },
      "source": [
        "remove_columns = ['striker', 'non-striker', 'mid', 'batsman', 'bowler']\n",
        "df.drop(labels = remove_columns, axis=1, inplace=True)"
      ],
      "execution_count": null,
      "outputs": []
    },
    {
      "cell_type": "code",
      "metadata": {
        "colab": {
          "base_uri": "https://localhost:8080/",
          "height": 195
        },
        "id": "7vpjRx66lTIf",
        "outputId": "d9c0b286-b60d-43ff-ac0e-61afc141f23d"
      },
      "source": [
        "df.head()"
      ],
      "execution_count": null,
      "outputs": [
        {
          "output_type": "execute_result",
          "data": {
            "text/html": [
              "<div>\n",
              "<style scoped>\n",
              "    .dataframe tbody tr th:only-of-type {\n",
              "        vertical-align: middle;\n",
              "    }\n",
              "\n",
              "    .dataframe tbody tr th {\n",
              "        vertical-align: top;\n",
              "    }\n",
              "\n",
              "    .dataframe thead th {\n",
              "        text-align: right;\n",
              "    }\n",
              "</style>\n",
              "<table border=\"1\" class=\"dataframe\">\n",
              "  <thead>\n",
              "    <tr style=\"text-align: right;\">\n",
              "      <th></th>\n",
              "      <th>date</th>\n",
              "      <th>venue</th>\n",
              "      <th>bat_team</th>\n",
              "      <th>bowl_team</th>\n",
              "      <th>runs</th>\n",
              "      <th>wickets</th>\n",
              "      <th>overs</th>\n",
              "      <th>runs_last_5</th>\n",
              "      <th>wickets_last_5</th>\n",
              "      <th>total</th>\n",
              "    </tr>\n",
              "  </thead>\n",
              "  <tbody>\n",
              "    <tr>\n",
              "      <th>0</th>\n",
              "      <td>4/18/2008</td>\n",
              "      <td>M Chinnaswamy Stadium</td>\n",
              "      <td>Kolkata Knight Riders</td>\n",
              "      <td>Royal Challengers Bangalore</td>\n",
              "      <td>1</td>\n",
              "      <td>0</td>\n",
              "      <td>0.1</td>\n",
              "      <td>1</td>\n",
              "      <td>0</td>\n",
              "      <td>222</td>\n",
              "    </tr>\n",
              "    <tr>\n",
              "      <th>1</th>\n",
              "      <td>4/18/2008</td>\n",
              "      <td>M Chinnaswamy Stadium</td>\n",
              "      <td>Kolkata Knight Riders</td>\n",
              "      <td>Royal Challengers Bangalore</td>\n",
              "      <td>1</td>\n",
              "      <td>0</td>\n",
              "      <td>0.2</td>\n",
              "      <td>1</td>\n",
              "      <td>0</td>\n",
              "      <td>222</td>\n",
              "    </tr>\n",
              "    <tr>\n",
              "      <th>2</th>\n",
              "      <td>4/18/2008</td>\n",
              "      <td>M Chinnaswamy Stadium</td>\n",
              "      <td>Kolkata Knight Riders</td>\n",
              "      <td>Royal Challengers Bangalore</td>\n",
              "      <td>2</td>\n",
              "      <td>0</td>\n",
              "      <td>0.2</td>\n",
              "      <td>2</td>\n",
              "      <td>0</td>\n",
              "      <td>222</td>\n",
              "    </tr>\n",
              "    <tr>\n",
              "      <th>3</th>\n",
              "      <td>4/18/2008</td>\n",
              "      <td>M Chinnaswamy Stadium</td>\n",
              "      <td>Kolkata Knight Riders</td>\n",
              "      <td>Royal Challengers Bangalore</td>\n",
              "      <td>2</td>\n",
              "      <td>0</td>\n",
              "      <td>0.3</td>\n",
              "      <td>2</td>\n",
              "      <td>0</td>\n",
              "      <td>222</td>\n",
              "    </tr>\n",
              "    <tr>\n",
              "      <th>4</th>\n",
              "      <td>4/18/2008</td>\n",
              "      <td>M Chinnaswamy Stadium</td>\n",
              "      <td>Kolkata Knight Riders</td>\n",
              "      <td>Royal Challengers Bangalore</td>\n",
              "      <td>2</td>\n",
              "      <td>0</td>\n",
              "      <td>0.4</td>\n",
              "      <td>2</td>\n",
              "      <td>0</td>\n",
              "      <td>222</td>\n",
              "    </tr>\n",
              "  </tbody>\n",
              "</table>\n",
              "</div>"
            ],
            "text/plain": [
              "        date                  venue  ... wickets_last_5 total\n",
              "0  4/18/2008  M Chinnaswamy Stadium  ...              0   222\n",
              "1  4/18/2008  M Chinnaswamy Stadium  ...              0   222\n",
              "2  4/18/2008  M Chinnaswamy Stadium  ...              0   222\n",
              "3  4/18/2008  M Chinnaswamy Stadium  ...              0   222\n",
              "4  4/18/2008  M Chinnaswamy Stadium  ...              0   222\n",
              "\n",
              "[5 rows x 10 columns]"
            ]
          },
          "metadata": {
            "tags": []
          },
          "execution_count": 6
        }
      ]
    },
    {
      "cell_type": "code",
      "metadata": {
        "colab": {
          "base_uri": "https://localhost:8080/"
        },
        "id": "JyChKscmlTIg",
        "outputId": "9bf63bbe-c7ee-4f98-c471-8581baa81cdb"
      },
      "source": [
        "df['bat_team'].unique()"
      ],
      "execution_count": null,
      "outputs": [
        {
          "output_type": "execute_result",
          "data": {
            "text/plain": [
              "array(['Kolkata Knight Riders', 'Chennai Super Kings', 'Rajasthan Royals',\n",
              "       'Mumbai Indians', 'Deccan Chargers', 'Kings XI Punjab',\n",
              "       'Royal Challengers Bangalore', 'Delhi Daredevils',\n",
              "       'Kochi Tuskers Kerala', 'Pune Warriors', 'Sunrisers Hyderabad',\n",
              "       'Rising Pune Supergiants', 'Gujarat Lions',\n",
              "       'Rising Pune Supergiant'], dtype=object)"
            ]
          },
          "metadata": {
            "tags": []
          },
          "execution_count": 7
        }
      ]
    },
    {
      "cell_type": "code",
      "metadata": {
        "id": "Ef4gkUXKlTIg"
      },
      "source": [
        "current_teams = ['Kolkata Knight Riders', 'Chennai Super Kings', 'Rajasthan Royals',\n",
        "       'Mumbai Indians', 'Kings XI Punjab',\n",
        "       'Royal Challengers Bangalore', 'Delhi Daredevils',\n",
        "       'Sunrisers Hyderabad']"
      ],
      "execution_count": null,
      "outputs": []
    },
    {
      "cell_type": "code",
      "metadata": {
        "colab": {
          "base_uri": "https://localhost:8080/"
        },
        "id": "F8tct8ujlTIg",
        "outputId": "2436fe0f-c887-482c-e225-fac0b437d857"
      },
      "source": [
        "df['venue'].unique()"
      ],
      "execution_count": null,
      "outputs": [
        {
          "output_type": "execute_result",
          "data": {
            "text/plain": [
              "array(['M Chinnaswamy Stadium',\n",
              "       'Punjab Cricket Association Stadium, Mohali', 'Feroz Shah Kotla',\n",
              "       'Wankhede Stadium', 'Eden Gardens', 'Sawai Mansingh Stadium',\n",
              "       'Rajiv Gandhi International Stadium, Uppal',\n",
              "       'MA Chidambaram Stadium, Chepauk', 'Dr DY Patil Sports Academy',\n",
              "       'Newlands', \"St George's Park\", 'Kingsmead', 'SuperSport Park',\n",
              "       'Buffalo Park', 'New Wanderers Stadium', 'De Beers Diamond Oval',\n",
              "       'OUTsurance Oval', 'Brabourne Stadium',\n",
              "       'Sardar Patel Stadium, Motera', 'Barabati Stadium',\n",
              "       'Vidarbha Cricket Association Stadium, Jamtha',\n",
              "       'Himachal Pradesh Cricket Association Stadium', 'Nehru Stadium',\n",
              "       'Holkar Cricket Stadium',\n",
              "       'Dr. Y.S. Rajasekhara Reddy ACA-VDCA Cricket Stadium',\n",
              "       'Subrata Roy Sahara Stadium',\n",
              "       'Shaheed Veer Narayan Singh International Stadium',\n",
              "       'JSCA International Stadium Complex', 'Sheikh Zayed Stadium',\n",
              "       'Sharjah Cricket Stadium', 'Dubai International Cricket Stadium',\n",
              "       'Maharashtra Cricket Association Stadium',\n",
              "       'Punjab Cricket Association IS Bindra Stadium, Mohali',\n",
              "       'Saurashtra Cricket Association Stadium', 'Green Park'],\n",
              "      dtype=object)"
            ]
          },
          "metadata": {
            "tags": []
          },
          "execution_count": 9
        }
      ]
    },
    {
      "cell_type": "code",
      "metadata": {
        "colab": {
          "base_uri": "https://localhost:8080/"
        },
        "id": "lRsnySvWlTIh",
        "outputId": "d792f9c7-4f33-45f3-d90f-fc6e91526f4e"
      },
      "source": [
        "#to see most used stadiums\n",
        "df['count'] = 1\n",
        "df.groupby(['venue']).count()['count']"
      ],
      "execution_count": null,
      "outputs": [
        {
          "output_type": "execute_result",
          "data": {
            "text/plain": [
              "venue\n",
              "Barabati Stadium                                         856\n",
              "Brabourne Stadium                                       1380\n",
              "Buffalo Park                                             380\n",
              "De Beers Diamond Oval                                    368\n",
              "Dr DY Patil Sports Academy                              2088\n",
              "Dr. Y.S. Rajasekhara Reddy ACA-VDCA Cricket Stadium     1113\n",
              "Dubai International Cricket Stadium                      868\n",
              "Eden Gardens                                            7049\n",
              "Feroz Shah Kotla                                        7068\n",
              "Green Park                                               492\n",
              "Himachal Pradesh Cricket Association Stadium            1115\n",
              "Holkar Cricket Stadium                                   617\n",
              "JSCA International Stadium Complex                       837\n",
              "Kingsmead                                               1731\n",
              "M Chinnaswamy Stadium                                   7443\n",
              "MA Chidambaram Stadium, Chepauk                         5972\n",
              "Maharashtra Cricket Association Stadium                 1843\n",
              "Nehru Stadium                                            499\n",
              "New Wanderers Stadium                                    995\n",
              "Newlands                                                 737\n",
              "OUTsurance Oval                                          251\n",
              "Punjab Cricket Association IS Bindra Stadium, Mohali    1342\n",
              "Punjab Cricket Association Stadium, Mohali              4247\n",
              "Rajiv Gandhi International Stadium, Uppal               5827\n",
              "Sardar Patel Stadium, Motera                            1484\n",
              "Saurashtra Cricket Association Stadium                  1229\n",
              "Sawai Mansingh Stadium                                  4110\n",
              "Shaheed Veer Narayan Singh International Stadium         742\n",
              "Sharjah Cricket Stadium                                  744\n",
              "Sheikh Zayed Stadium                                     836\n",
              "St George's Park                                         870\n",
              "Subrata Roy Sahara Stadium                              2086\n",
              "SuperSport Park                                         1377\n",
              "Vidarbha Cricket Association Stadium, Jamtha             370\n",
              "Wankhede Stadium                                        7048\n",
              "Name: count, dtype: int64"
            ]
          },
          "metadata": {
            "tags": []
          },
          "execution_count": 10
        }
      ]
    },
    {
      "cell_type": "code",
      "metadata": {
        "id": "Zf3-Y6gElTIh"
      },
      "source": [
        "df.drop(labels=['count'], axis=1, inplace=True)"
      ],
      "execution_count": null,
      "outputs": []
    },
    {
      "cell_type": "code",
      "metadata": {
        "colab": {
          "base_uri": "https://localhost:8080/",
          "height": 195
        },
        "id": "428bFbUAlTIh",
        "outputId": "2c6d9af2-f15c-4623-b47e-60a0c0db5768"
      },
      "source": [
        "df.head()"
      ],
      "execution_count": null,
      "outputs": [
        {
          "output_type": "execute_result",
          "data": {
            "text/html": [
              "<div>\n",
              "<style scoped>\n",
              "    .dataframe tbody tr th:only-of-type {\n",
              "        vertical-align: middle;\n",
              "    }\n",
              "\n",
              "    .dataframe tbody tr th {\n",
              "        vertical-align: top;\n",
              "    }\n",
              "\n",
              "    .dataframe thead th {\n",
              "        text-align: right;\n",
              "    }\n",
              "</style>\n",
              "<table border=\"1\" class=\"dataframe\">\n",
              "  <thead>\n",
              "    <tr style=\"text-align: right;\">\n",
              "      <th></th>\n",
              "      <th>date</th>\n",
              "      <th>venue</th>\n",
              "      <th>bat_team</th>\n",
              "      <th>bowl_team</th>\n",
              "      <th>runs</th>\n",
              "      <th>wickets</th>\n",
              "      <th>overs</th>\n",
              "      <th>runs_last_5</th>\n",
              "      <th>wickets_last_5</th>\n",
              "      <th>total</th>\n",
              "    </tr>\n",
              "  </thead>\n",
              "  <tbody>\n",
              "    <tr>\n",
              "      <th>0</th>\n",
              "      <td>4/18/2008</td>\n",
              "      <td>M Chinnaswamy Stadium</td>\n",
              "      <td>Kolkata Knight Riders</td>\n",
              "      <td>Royal Challengers Bangalore</td>\n",
              "      <td>1</td>\n",
              "      <td>0</td>\n",
              "      <td>0.1</td>\n",
              "      <td>1</td>\n",
              "      <td>0</td>\n",
              "      <td>222</td>\n",
              "    </tr>\n",
              "    <tr>\n",
              "      <th>1</th>\n",
              "      <td>4/18/2008</td>\n",
              "      <td>M Chinnaswamy Stadium</td>\n",
              "      <td>Kolkata Knight Riders</td>\n",
              "      <td>Royal Challengers Bangalore</td>\n",
              "      <td>1</td>\n",
              "      <td>0</td>\n",
              "      <td>0.2</td>\n",
              "      <td>1</td>\n",
              "      <td>0</td>\n",
              "      <td>222</td>\n",
              "    </tr>\n",
              "    <tr>\n",
              "      <th>2</th>\n",
              "      <td>4/18/2008</td>\n",
              "      <td>M Chinnaswamy Stadium</td>\n",
              "      <td>Kolkata Knight Riders</td>\n",
              "      <td>Royal Challengers Bangalore</td>\n",
              "      <td>2</td>\n",
              "      <td>0</td>\n",
              "      <td>0.2</td>\n",
              "      <td>2</td>\n",
              "      <td>0</td>\n",
              "      <td>222</td>\n",
              "    </tr>\n",
              "    <tr>\n",
              "      <th>3</th>\n",
              "      <td>4/18/2008</td>\n",
              "      <td>M Chinnaswamy Stadium</td>\n",
              "      <td>Kolkata Knight Riders</td>\n",
              "      <td>Royal Challengers Bangalore</td>\n",
              "      <td>2</td>\n",
              "      <td>0</td>\n",
              "      <td>0.3</td>\n",
              "      <td>2</td>\n",
              "      <td>0</td>\n",
              "      <td>222</td>\n",
              "    </tr>\n",
              "    <tr>\n",
              "      <th>4</th>\n",
              "      <td>4/18/2008</td>\n",
              "      <td>M Chinnaswamy Stadium</td>\n",
              "      <td>Kolkata Knight Riders</td>\n",
              "      <td>Royal Challengers Bangalore</td>\n",
              "      <td>2</td>\n",
              "      <td>0</td>\n",
              "      <td>0.4</td>\n",
              "      <td>2</td>\n",
              "      <td>0</td>\n",
              "      <td>222</td>\n",
              "    </tr>\n",
              "  </tbody>\n",
              "</table>\n",
              "</div>"
            ],
            "text/plain": [
              "        date                  venue  ... wickets_last_5 total\n",
              "0  4/18/2008  M Chinnaswamy Stadium  ...              0   222\n",
              "1  4/18/2008  M Chinnaswamy Stadium  ...              0   222\n",
              "2  4/18/2008  M Chinnaswamy Stadium  ...              0   222\n",
              "3  4/18/2008  M Chinnaswamy Stadium  ...              0   222\n",
              "4  4/18/2008  M Chinnaswamy Stadium  ...              0   222\n",
              "\n",
              "[5 rows x 10 columns]"
            ]
          },
          "metadata": {
            "tags": []
          },
          "execution_count": 12
        }
      ]
    },
    {
      "cell_type": "code",
      "metadata": {
        "id": "pjI8ztdXlTIi"
      },
      "source": [
        "current_venues = ['M Chinnaswamy Stadium','Eden Gardens', 'Feroz Shah Kotla', 'MA Chidambaram Stadium, Chepauk',\n",
        "       'Punjab Cricket Association Stadium, Mohali', \n",
        "       'Wankhede Stadium', 'Sawai Mansingh Stadium',\n",
        "       'Rajiv Gandhi International Stadium, Uppal']"
      ],
      "execution_count": null,
      "outputs": []
    },
    {
      "cell_type": "code",
      "metadata": {
        "id": "2t9ftxoulTIi"
      },
      "source": [
        "df = df[(df['bat_team'].isin(current_teams)) &(df['bowl_team'].isin(current_teams))]"
      ],
      "execution_count": null,
      "outputs": []
    },
    {
      "cell_type": "code",
      "metadata": {
        "id": "UjnAkksplTIi"
      },
      "source": [
        "df = df[(df['venue'].isin(current_venues))]"
      ],
      "execution_count": null,
      "outputs": []
    },
    {
      "cell_type": "code",
      "metadata": {
        "id": "qW4akoF6lTIj"
      },
      "source": [
        "df = df[df['overs']>=5.0]"
      ],
      "execution_count": null,
      "outputs": []
    },
    {
      "cell_type": "code",
      "metadata": {
        "colab": {
          "base_uri": "https://localhost:8080/"
        },
        "id": "thZdCjIhlTIj",
        "outputId": "cd026a1b-20cc-4dc2-da22-bbd0346941f1"
      },
      "source": [
        "df['venue'].unique()"
      ],
      "execution_count": null,
      "outputs": [
        {
          "output_type": "execute_result",
          "data": {
            "text/plain": [
              "array(['M Chinnaswamy Stadium',\n",
              "       'Punjab Cricket Association Stadium, Mohali', 'Feroz Shah Kotla',\n",
              "       'Wankhede Stadium', 'Sawai Mansingh Stadium',\n",
              "       'MA Chidambaram Stadium, Chepauk', 'Eden Gardens',\n",
              "       'Rajiv Gandhi International Stadium, Uppal'], dtype=object)"
            ]
          },
          "metadata": {
            "tags": []
          },
          "execution_count": 17
        }
      ]
    },
    {
      "cell_type": "code",
      "metadata": {
        "id": "gvachFFslTIj"
      },
      "source": [
        "# Converting 'date' from string into datetime object\n",
        "from datetime import datetime\n",
        "df['date'] = df['date'].apply(lambda x: datetime.strptime(x, '%m/%d/%Y'))"
      ],
      "execution_count": null,
      "outputs": []
    },
    {
      "cell_type": "code",
      "metadata": {
        "id": "NaWuQzmUlTIj"
      },
      "source": [
        "# --- Data Preprocessing ---\n",
        "# Converting categorical features using OneHotEncoding method\n",
        "final_df = pd.get_dummies(data=df, columns=['bat_team', 'bowl_team', 'venue'])"
      ],
      "execution_count": null,
      "outputs": []
    },
    {
      "cell_type": "code",
      "metadata": {
        "colab": {
          "base_uri": "https://localhost:8080/",
          "height": 366
        },
        "id": "NQFwMcF1lTIk",
        "outputId": "1aecbe1e-b462-494d-c28a-4f786a04e03e"
      },
      "source": [
        "final_df.head()"
      ],
      "execution_count": null,
      "outputs": [
        {
          "output_type": "execute_result",
          "data": {
            "text/html": [
              "<div>\n",
              "<style scoped>\n",
              "    .dataframe tbody tr th:only-of-type {\n",
              "        vertical-align: middle;\n",
              "    }\n",
              "\n",
              "    .dataframe tbody tr th {\n",
              "        vertical-align: top;\n",
              "    }\n",
              "\n",
              "    .dataframe thead th {\n",
              "        text-align: right;\n",
              "    }\n",
              "</style>\n",
              "<table border=\"1\" class=\"dataframe\">\n",
              "  <thead>\n",
              "    <tr style=\"text-align: right;\">\n",
              "      <th></th>\n",
              "      <th>date</th>\n",
              "      <th>runs</th>\n",
              "      <th>wickets</th>\n",
              "      <th>overs</th>\n",
              "      <th>runs_last_5</th>\n",
              "      <th>wickets_last_5</th>\n",
              "      <th>total</th>\n",
              "      <th>bat_team_Chennai Super Kings</th>\n",
              "      <th>bat_team_Delhi Daredevils</th>\n",
              "      <th>bat_team_Kings XI Punjab</th>\n",
              "      <th>bat_team_Kolkata Knight Riders</th>\n",
              "      <th>bat_team_Mumbai Indians</th>\n",
              "      <th>bat_team_Rajasthan Royals</th>\n",
              "      <th>bat_team_Royal Challengers Bangalore</th>\n",
              "      <th>bat_team_Sunrisers Hyderabad</th>\n",
              "      <th>bowl_team_Chennai Super Kings</th>\n",
              "      <th>bowl_team_Delhi Daredevils</th>\n",
              "      <th>bowl_team_Kings XI Punjab</th>\n",
              "      <th>bowl_team_Kolkata Knight Riders</th>\n",
              "      <th>bowl_team_Mumbai Indians</th>\n",
              "      <th>bowl_team_Rajasthan Royals</th>\n",
              "      <th>bowl_team_Royal Challengers Bangalore</th>\n",
              "      <th>bowl_team_Sunrisers Hyderabad</th>\n",
              "      <th>venue_Eden Gardens</th>\n",
              "      <th>venue_Feroz Shah Kotla</th>\n",
              "      <th>venue_M Chinnaswamy Stadium</th>\n",
              "      <th>venue_MA Chidambaram Stadium, Chepauk</th>\n",
              "      <th>venue_Punjab Cricket Association Stadium, Mohali</th>\n",
              "      <th>venue_Rajiv Gandhi International Stadium, Uppal</th>\n",
              "      <th>venue_Sawai Mansingh Stadium</th>\n",
              "      <th>venue_Wankhede Stadium</th>\n",
              "    </tr>\n",
              "  </thead>\n",
              "  <tbody>\n",
              "    <tr>\n",
              "      <th>32</th>\n",
              "      <td>2008-04-18</td>\n",
              "      <td>61</td>\n",
              "      <td>0</td>\n",
              "      <td>5.1</td>\n",
              "      <td>59</td>\n",
              "      <td>0</td>\n",
              "      <td>222</td>\n",
              "      <td>0</td>\n",
              "      <td>0</td>\n",
              "      <td>0</td>\n",
              "      <td>1</td>\n",
              "      <td>0</td>\n",
              "      <td>0</td>\n",
              "      <td>0</td>\n",
              "      <td>0</td>\n",
              "      <td>0</td>\n",
              "      <td>0</td>\n",
              "      <td>0</td>\n",
              "      <td>0</td>\n",
              "      <td>0</td>\n",
              "      <td>0</td>\n",
              "      <td>1</td>\n",
              "      <td>0</td>\n",
              "      <td>0</td>\n",
              "      <td>0</td>\n",
              "      <td>1</td>\n",
              "      <td>0</td>\n",
              "      <td>0</td>\n",
              "      <td>0</td>\n",
              "      <td>0</td>\n",
              "      <td>0</td>\n",
              "    </tr>\n",
              "    <tr>\n",
              "      <th>33</th>\n",
              "      <td>2008-04-18</td>\n",
              "      <td>61</td>\n",
              "      <td>1</td>\n",
              "      <td>5.2</td>\n",
              "      <td>59</td>\n",
              "      <td>1</td>\n",
              "      <td>222</td>\n",
              "      <td>0</td>\n",
              "      <td>0</td>\n",
              "      <td>0</td>\n",
              "      <td>1</td>\n",
              "      <td>0</td>\n",
              "      <td>0</td>\n",
              "      <td>0</td>\n",
              "      <td>0</td>\n",
              "      <td>0</td>\n",
              "      <td>0</td>\n",
              "      <td>0</td>\n",
              "      <td>0</td>\n",
              "      <td>0</td>\n",
              "      <td>0</td>\n",
              "      <td>1</td>\n",
              "      <td>0</td>\n",
              "      <td>0</td>\n",
              "      <td>0</td>\n",
              "      <td>1</td>\n",
              "      <td>0</td>\n",
              "      <td>0</td>\n",
              "      <td>0</td>\n",
              "      <td>0</td>\n",
              "      <td>0</td>\n",
              "    </tr>\n",
              "    <tr>\n",
              "      <th>34</th>\n",
              "      <td>2008-04-18</td>\n",
              "      <td>61</td>\n",
              "      <td>1</td>\n",
              "      <td>5.3</td>\n",
              "      <td>59</td>\n",
              "      <td>1</td>\n",
              "      <td>222</td>\n",
              "      <td>0</td>\n",
              "      <td>0</td>\n",
              "      <td>0</td>\n",
              "      <td>1</td>\n",
              "      <td>0</td>\n",
              "      <td>0</td>\n",
              "      <td>0</td>\n",
              "      <td>0</td>\n",
              "      <td>0</td>\n",
              "      <td>0</td>\n",
              "      <td>0</td>\n",
              "      <td>0</td>\n",
              "      <td>0</td>\n",
              "      <td>0</td>\n",
              "      <td>1</td>\n",
              "      <td>0</td>\n",
              "      <td>0</td>\n",
              "      <td>0</td>\n",
              "      <td>1</td>\n",
              "      <td>0</td>\n",
              "      <td>0</td>\n",
              "      <td>0</td>\n",
              "      <td>0</td>\n",
              "      <td>0</td>\n",
              "    </tr>\n",
              "    <tr>\n",
              "      <th>35</th>\n",
              "      <td>2008-04-18</td>\n",
              "      <td>61</td>\n",
              "      <td>1</td>\n",
              "      <td>5.4</td>\n",
              "      <td>59</td>\n",
              "      <td>1</td>\n",
              "      <td>222</td>\n",
              "      <td>0</td>\n",
              "      <td>0</td>\n",
              "      <td>0</td>\n",
              "      <td>1</td>\n",
              "      <td>0</td>\n",
              "      <td>0</td>\n",
              "      <td>0</td>\n",
              "      <td>0</td>\n",
              "      <td>0</td>\n",
              "      <td>0</td>\n",
              "      <td>0</td>\n",
              "      <td>0</td>\n",
              "      <td>0</td>\n",
              "      <td>0</td>\n",
              "      <td>1</td>\n",
              "      <td>0</td>\n",
              "      <td>0</td>\n",
              "      <td>0</td>\n",
              "      <td>1</td>\n",
              "      <td>0</td>\n",
              "      <td>0</td>\n",
              "      <td>0</td>\n",
              "      <td>0</td>\n",
              "      <td>0</td>\n",
              "    </tr>\n",
              "    <tr>\n",
              "      <th>36</th>\n",
              "      <td>2008-04-18</td>\n",
              "      <td>61</td>\n",
              "      <td>1</td>\n",
              "      <td>5.5</td>\n",
              "      <td>58</td>\n",
              "      <td>1</td>\n",
              "      <td>222</td>\n",
              "      <td>0</td>\n",
              "      <td>0</td>\n",
              "      <td>0</td>\n",
              "      <td>1</td>\n",
              "      <td>0</td>\n",
              "      <td>0</td>\n",
              "      <td>0</td>\n",
              "      <td>0</td>\n",
              "      <td>0</td>\n",
              "      <td>0</td>\n",
              "      <td>0</td>\n",
              "      <td>0</td>\n",
              "      <td>0</td>\n",
              "      <td>0</td>\n",
              "      <td>1</td>\n",
              "      <td>0</td>\n",
              "      <td>0</td>\n",
              "      <td>0</td>\n",
              "      <td>1</td>\n",
              "      <td>0</td>\n",
              "      <td>0</td>\n",
              "      <td>0</td>\n",
              "      <td>0</td>\n",
              "      <td>0</td>\n",
              "    </tr>\n",
              "  </tbody>\n",
              "</table>\n",
              "</div>"
            ],
            "text/plain": [
              "         date  runs  ...  venue_Sawai Mansingh Stadium  venue_Wankhede Stadium\n",
              "32 2008-04-18    61  ...                             0                       0\n",
              "33 2008-04-18    61  ...                             0                       0\n",
              "34 2008-04-18    61  ...                             0                       0\n",
              "35 2008-04-18    61  ...                             0                       0\n",
              "36 2008-04-18    61  ...                             0                       0\n",
              "\n",
              "[5 rows x 31 columns]"
            ]
          },
          "metadata": {
            "tags": []
          },
          "execution_count": 20
        }
      ]
    },
    {
      "cell_type": "code",
      "metadata": {
        "colab": {
          "base_uri": "https://localhost:8080/"
        },
        "id": "8WTpO-M0lTIk",
        "outputId": "96acaa93-afda-429c-823c-8e0a486d17f4"
      },
      "source": [
        "final_df.columns"
      ],
      "execution_count": null,
      "outputs": [
        {
          "output_type": "execute_result",
          "data": {
            "text/plain": [
              "Index(['date', 'runs', 'wickets', 'overs', 'runs_last_5', 'wickets_last_5',\n",
              "       'total', 'bat_team_Chennai Super Kings', 'bat_team_Delhi Daredevils',\n",
              "       'bat_team_Kings XI Punjab', 'bat_team_Kolkata Knight Riders',\n",
              "       'bat_team_Mumbai Indians', 'bat_team_Rajasthan Royals',\n",
              "       'bat_team_Royal Challengers Bangalore', 'bat_team_Sunrisers Hyderabad',\n",
              "       'bowl_team_Chennai Super Kings', 'bowl_team_Delhi Daredevils',\n",
              "       'bowl_team_Kings XI Punjab', 'bowl_team_Kolkata Knight Riders',\n",
              "       'bowl_team_Mumbai Indians', 'bowl_team_Rajasthan Royals',\n",
              "       'bowl_team_Royal Challengers Bangalore',\n",
              "       'bowl_team_Sunrisers Hyderabad', 'venue_Eden Gardens',\n",
              "       'venue_Feroz Shah Kotla', 'venue_M Chinnaswamy Stadium',\n",
              "       'venue_MA Chidambaram Stadium, Chepauk',\n",
              "       'venue_Punjab Cricket Association Stadium, Mohali',\n",
              "       'venue_Rajiv Gandhi International Stadium, Uppal',\n",
              "       'venue_Sawai Mansingh Stadium', 'venue_Wankhede Stadium'],\n",
              "      dtype='object')"
            ]
          },
          "metadata": {
            "tags": []
          },
          "execution_count": 21
        }
      ]
    },
    {
      "cell_type": "code",
      "metadata": {
        "id": "v8fW2fvYlTIk"
      },
      "source": [
        "#rearranging the columns\n",
        "final_df = final_df[['date','bat_team_Chennai Super Kings', 'bat_team_Delhi Daredevils',\n",
        "       'bat_team_Kings XI Punjab', 'bat_team_Kolkata Knight Riders',\n",
        "       'bat_team_Mumbai Indians', 'bat_team_Rajasthan Royals',\n",
        "       'bat_team_Royal Challengers Bangalore', 'bat_team_Sunrisers Hyderabad',\n",
        "       'bowl_team_Chennai Super Kings', 'bowl_team_Delhi Daredevils',\n",
        "       'bowl_team_Kings XI Punjab', 'bowl_team_Kolkata Knight Riders',\n",
        "       'bowl_team_Mumbai Indians', 'bowl_team_Rajasthan Royals',\n",
        "       'bowl_team_Royal Challengers Bangalore',\n",
        "       'bowl_team_Sunrisers Hyderabad', 'venue_Eden Gardens',\n",
        "       'venue_Feroz Shah Kotla','venue_M Chinnaswamy Stadium',\n",
        "       'venue_MA Chidambaram Stadium, Chepauk','venue_Sawai Mansingh Stadium',\n",
        "       'venue_Punjab Cricket Association Stadium, Mohali',\n",
        "       'venue_Rajiv Gandhi International Stadium, Uppal',\n",
        "       'venue_Wankhede Stadium', 'overs','runs', 'wickets', 'runs_last_5', 'wickets_last_5',\n",
        "       'total']]"
      ],
      "execution_count": null,
      "outputs": []
    },
    {
      "cell_type": "markdown",
      "metadata": {
        "id": "kXX1zdRYw6_N"
      },
      "source": [
        "# Splitting the dataset into train and test set"
      ]
    },
    {
      "cell_type": "code",
      "metadata": {
        "id": "ZSbX8nZRlTIl"
      },
      "source": [
        "X_train = final_df.drop(labels='total', axis=1)[final_df['date'].dt.year<=2016]\n",
        "X_test = final_df.drop(labels='total', axis=1)[final_df['date'].dt.year>=2017]"
      ],
      "execution_count": null,
      "outputs": []
    },
    {
      "cell_type": "code",
      "metadata": {
        "id": "1gdht1hnlTIm"
      },
      "source": [
        "y_train = final_df[final_df['date'].dt.year<=2016]['total'].values\n",
        "y_test = final_df[final_df['date'].dt.year>=2017]['total'].values"
      ],
      "execution_count": null,
      "outputs": []
    },
    {
      "cell_type": "code",
      "metadata": {
        "id": "nd3UgRXalTIm"
      },
      "source": [
        "X_train.drop(labels='date', axis=True, inplace=True)\n",
        "X_test.drop(labels='date', axis=True, inplace=True)"
      ],
      "execution_count": null,
      "outputs": []
    },
    {
      "cell_type": "markdown",
      "metadata": {
        "id": "zBsdBLx1w_7J"
      },
      "source": [
        "# Importing a Random Forest regression model to regress on the dataset\n",
        "\n",
        " Random Forest operates by constructing several decision trees during training time and outputting the mean of the classes as the prediction of all the trees. \n",
        "\n",
        "\n",
        "\n",
        "![image.png](data:image/png;base64,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)"
      ]
    },
    {
      "cell_type": "code",
      "metadata": {
        "id": "_ScVCvtblTIm"
      },
      "source": [
        "# Random Forest\n",
        "from sklearn.ensemble import RandomForestRegressor\n",
        "model = RandomForestRegressor(random_state = 42)"
      ],
      "execution_count": null,
      "outputs": []
    },
    {
      "cell_type": "markdown",
      "metadata": {
        "id": "VMlUfqKU1aVP"
      },
      "source": [
        "## Look at parameters used by our current forest\n"
      ]
    },
    {
      "cell_type": "code",
      "metadata": {
        "id": "Cm6IrZEElTIn",
        "outputId": "fa79ee91-0561-48c9-e156-d32552811467"
      },
      "source": [
        "from pprint import pprint\n",
        "print('Parameters currently in use:\\n')\n",
        "pprint(model.get_params())"
      ],
      "execution_count": null,
      "outputs": [
        {
          "output_type": "stream",
          "text": [
            "Parameters currently in use:\n",
            "\n",
            "{'bootstrap': True,\n",
            " 'ccp_alpha': 0.0,\n",
            " 'criterion': 'mse',\n",
            " 'max_depth': None,\n",
            " 'max_features': 'auto',\n",
            " 'max_leaf_nodes': None,\n",
            " 'max_samples': None,\n",
            " 'min_impurity_decrease': 0.0,\n",
            " 'min_impurity_split': None,\n",
            " 'min_samples_leaf': 1,\n",
            " 'min_samples_split': 2,\n",
            " 'min_weight_fraction_leaf': 0.0,\n",
            " 'n_estimators': 100,\n",
            " 'n_jobs': None,\n",
            " 'oob_score': False,\n",
            " 'random_state': 42,\n",
            " 'verbose': 0,\n",
            " 'warm_start': False}\n"
          ],
          "name": "stdout"
        }
      ]
    },
    {
      "cell_type": "markdown",
      "metadata": {
        "id": "Se82S3_6xH0h"
      },
      "source": [
        "# Hyperparameter tuning\n",
        "\n",
        "As we don't know what hyper parameters will work the best, we try different combinations of pre-provided inputs and see which works the best and later use that, which is why training takes a long time, with or without GPU.\n"
      ]
    },
    {
      "cell_type": "code",
      "metadata": {
        "id": "I51Di1culTIn",
        "outputId": "b7b58115-83ee-436b-fb97-6ae8de8fec7d"
      },
      "source": [
        "#__Random forest regressor__\n",
        "from sklearn.model_selection import RandomizedSearchCV\n",
        "# Number of trees in random forest\n",
        "n_estimators = [int(x) for x in np.linspace(start = 200, stop = 800, num = 4)]\n",
        "# Number of features to consider at every split\n",
        "max_features = ['auto', 'sqrt']\n",
        "# Maximum number of levels in tree\n",
        "max_depth = [int(x) for x in np.linspace(10, 60, num = 6)]\n",
        "max_depth.append(None)\n",
        "# Minimum number of samples required to split a node\n",
        "min_samples_split = [2, 5, 10]\n",
        "# Minimum number of samples required at each leaf node\n",
        "min_samples_leaf = [1, 2, 4]\n",
        "# Method of selecting samples for training each tree\n",
        "bootstrap = [True, False]\n",
        "# Create the random grid\n",
        "random_grid = {'n_estimators': n_estimators,\n",
        "               'max_features': max_features,\n",
        "               'max_depth': max_depth,\n",
        "               'min_samples_split': min_samples_split,\n",
        "               'min_samples_leaf': min_samples_leaf,\n",
        "               'bootstrap': bootstrap}\n",
        "pprint(random_grid)"
      ],
      "execution_count": null,
      "outputs": [
        {
          "output_type": "stream",
          "text": [
            "{'bootstrap': [True, False],\n",
            " 'max_depth': [10, 20, 30, 40, 50, 60, None],\n",
            " 'max_features': ['auto', 'sqrt'],\n",
            " 'min_samples_leaf': [1, 2, 4],\n",
            " 'min_samples_split': [2, 5, 10],\n",
            " 'n_estimators': [200, 400, 600, 800]}\n"
          ],
          "name": "stdout"
        }
      ]
    },
    {
      "cell_type": "markdown",
      "metadata": {
        "id": "43M-PJCq1fvk"
      },
      "source": [
        "### Random search of parameters, using 3 fold cross validation,  search across 100 different combinations, and use all available cores"
      ]
    },
    {
      "cell_type": "code",
      "metadata": {
        "id": "MV9A94XOlTIo",
        "outputId": "66aadc74-3811-4ae4-8329-e30bf7f198a9"
      },
      "source": [
        "rf = RandomForestRegressor()\n",
        "rf_random = RandomizedSearchCV(estimator = rf, param_distributions = random_grid, n_iter = 100, cv = 3, verbose=2, random_state=42, n_jobs = -1)\n",
        "# Fit the random search model\n",
        "rf_random.fit(X_train, y_train)"
      ],
      "execution_count": null,
      "outputs": [
        {
          "output_type": "stream",
          "text": [
            "Fitting 3 folds for each of 100 candidates, totalling 300 fits\n"
          ],
          "name": "stdout"
        },
        {
          "output_type": "stream",
          "text": [
            "[Parallel(n_jobs=-1)]: Using backend LokyBackend with 4 concurrent workers.\n",
            "[Parallel(n_jobs=-1)]: Done  33 tasks      | elapsed: 14.3min\n",
            "[Parallel(n_jobs=-1)]: Done 154 tasks      | elapsed: 52.6min\n",
            "[Parallel(n_jobs=-1)]: Done 300 out of 300 | elapsed: 90.0min finished\n"
          ],
          "name": "stderr"
        },
        {
          "output_type": "execute_result",
          "data": {
            "text/plain": [
              "RandomizedSearchCV(cv=3, estimator=RandomForestRegressor(), n_iter=100,\n",
              "                   n_jobs=-1,\n",
              "                   param_distributions={'bootstrap': [True, False],\n",
              "                                        'max_depth': [10, 20, 30, 40, 50, 60,\n",
              "                                                      None],\n",
              "                                        'max_features': ['auto', 'sqrt'],\n",
              "                                        'min_samples_leaf': [1, 2, 4],\n",
              "                                        'min_samples_split': [2, 5, 10],\n",
              "                                        'n_estimators': [200, 400, 600, 800]},\n",
              "                   random_state=42, verbose=2)"
            ]
          },
          "metadata": {
            "tags": []
          },
          "execution_count": 33
        }
      ]
    },
    {
      "cell_type": "markdown",
      "metadata": {
        "id": "JRc_lobbxo1X"
      },
      "source": [
        "## Let's see what the best combinations were for the hyperparameters"
      ]
    },
    {
      "cell_type": "code",
      "metadata": {
        "id": "FZR-ECydlTIp",
        "outputId": "55bf95f9-5adc-44ea-8aea-6aadfb4a5952"
      },
      "source": [
        "rf_random.best_params_"
      ],
      "execution_count": null,
      "outputs": [
        {
          "output_type": "execute_result",
          "data": {
            "text/plain": [
              "{'n_estimators': 600,\n",
              " 'min_samples_split': 5,\n",
              " 'min_samples_leaf': 4,\n",
              " 'max_features': 'auto',\n",
              " 'max_depth': 10,\n",
              " 'bootstrap': True}"
            ]
          },
          "metadata": {
            "tags": []
          },
          "execution_count": 34
        }
      ]
    },
    {
      "cell_type": "code",
      "metadata": {
        "id": "9mIl1cErlTIp"
      },
      "source": [
        "prediction = rf_random.predict(X_test)"
      ],
      "execution_count": null,
      "outputs": []
    },
    {
      "cell_type": "markdown",
      "metadata": {
        "id": "J0EIPFAuxtZD"
      },
      "source": [
        "## Print out the results of our training in form of errors "
      ]
    },
    {
      "cell_type": "code",
      "metadata": {
        "id": "tora_SqylTIp",
        "outputId": "b650f766-4a4a-43ae-b31b-6af66afc1f47"
      },
      "source": [
        "print('MAE:', metrics.mean_absolute_error(y_test, prediction))\n",
        "print('MSE:', metrics.mean_squared_error(y_test, prediction))\n",
        "print('RMSE:', np.sqrt(metrics.mean_squared_error(y_test, prediction)))"
      ],
      "execution_count": null,
      "outputs": [
        {
          "output_type": "stream",
          "text": [
            "MAE: 13.915122417126046\n",
            "MSE: 318.44189128913825\n",
            "RMSE: 17.844940215342227\n"
          ],
          "name": "stdout"
        }
      ]
    },
    {
      "cell_type": "code",
      "metadata": {
        "id": "eLnWmdOglTIq",
        "outputId": "e4b46b15-46eb-47b3-b3ac-87ed426597fc"
      },
      "source": [
        "sns.distplot(y_test-prediction)"
      ],
      "execution_count": null,
      "outputs": [
        {
          "output_type": "execute_result",
          "data": {
            "text/plain": [
              "<AxesSubplot:>"
            ]
          },
          "metadata": {
            "tags": []
          },
          "execution_count": 38
        },
        {
          "output_type": "display_data",
          "data": {
            "image/png": "[encoded data removed]",
            "text/plain": [
              "<Figure size 432x288 with 1 Axes>"
            ]
          },
          "metadata": {
            "tags": [],
            "needs_background": "light"
          }
        }
      ]
    },
    {
      "cell_type": "markdown",
      "metadata": {
        "id": "qxHNxjP9x0Sf"
      },
      "source": [
        "# Trying out the Lasso regression model to see if it works any better\n",
        "\n"
      ]
    },
    {
      "cell_type": "code",
      "metadata": {
        "id": "BkJdLme8lTIr"
      },
      "source": [
        "# Lasso Regression\n",
        "from sklearn.linear_model import Lasso\n",
        "from sklearn.model_selection import GridSearchCV"
      ],
      "execution_count": null,
      "outputs": []
    },
    {
      "cell_type": "code",
      "metadata": {
        "id": "3pfOsdYGlTIr"
      },
      "source": [
        "lasso=Lasso()\n",
        "parameters={'alpha':[1e-15,1e-10,1e-8,1e-3,1e-2,1,5,10,20,30,35,40]}\n",
        "lasso_regressor=GridSearchCV(lasso,parameters,scoring='neg_mean_squared_error',cv=5)\n",
        "lasso_regressor.fit(X_train,y_train)"
      ],
      "execution_count": null,
      "outputs": []
    },
    {
      "cell_type": "code",
      "metadata": {
        "id": "c4n47suIlTIr"
      },
      "source": [
        "prediction = lasso_regressor.predict(X_test)"
      ],
      "execution_count": null,
      "outputs": []
    },
    {
      "cell_type": "code",
      "metadata": {
        "id": "5W5v8nJZlTIs",
        "outputId": "6763f5c0-1594-4e42-d801-c758aa5777ac"
      },
      "source": [
        "sns.distplot(y_test-prediction)"
      ],
      "execution_count": null,
      "outputs": [
        {
          "output_type": "execute_result",
          "data": {
            "text/plain": [
              "<AxesSubplot:>"
            ]
          },
          "metadata": {
            "tags": []
          },
          "execution_count": 42
        },
        {
          "output_type": "display_data",
          "data": {
            "image/png": "[encoded data removed]",
            "text/plain": [
              "<Figure size 432x288 with 1 Axes>"
            ]
          },
          "metadata": {
            "tags": [],
            "needs_background": "light"
          }
        }
      ]
    },
    {
      "cell_type": "markdown",
      "metadata": {
        "id": "oL7u0k0ox6xr"
      },
      "source": [
        "## We notice that for the same dataset, Lasso takes \n",
        "* Less time because we try different but less number of combinations of hyperparameters\n",
        "* Less error in each case"
      ]
    },
    {
      "cell_type": "code",
      "metadata": {
        "id": "wd4wo1OvlTIs",
        "outputId": "4d456b0b-38e0-4bc9-cda3-a9041a8a069f"
      },
      "source": [
        "print('MAE:', metrics.mean_absolute_error(y_test, prediction))\n",
        "print('MSE:', metrics.mean_squared_error(y_test, prediction))\n",
        "print('RMSE:', np.sqrt(metrics.mean_squared_error(y_test, prediction)))"
      ],
      "execution_count": null,
      "outputs": [
        {
          "output_type": "stream",
          "text": [
            "MAE: 11.119955248920911\n",
            "MSE: 203.82449147580922\n",
            "RMSE: 14.276711507760085\n"
          ],
          "name": "stdout"
        }
      ]
    },
    {
      "cell_type": "markdown",
      "metadata": {
        "id": "zK6JUQBIyL3L"
      },
      "source": [
        "# Saving the model as a pkl file to use later in our web application"
      ]
    },
    {
      "cell_type": "code",
      "metadata": {
        "id": "99NrZxxOlTIs"
      },
      "source": [
        "# Creating a pickle file for the classifier\n",
        "filename = 'Batting-score-LassoReg-model.pkl'\n",
        "pickle.dump(lasso_regressor, open(filename, 'wb'))"
      ],
      "execution_count": null,
      "outputs": []
    },
    {
      "cell_type": "code",
      "metadata": {
        "id": "LBq2ySJMntup"
      },
      "source": [
        ""
      ],
      "execution_count": null,
      "outputs": []
    }
  ]
}